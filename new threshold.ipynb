{
 "cells": [
  {
   "cell_type": "markdown",
   "id": "3a64a03b-9a8e-4794-a9c2-5892f0b771d5",
   "metadata": {},
   "source": [
    "## Metrics with new threshold"
   ]
  },
  {
   "cell_type": "code",
   "execution_count": 205,
   "id": "446885ba-e1b9-40d7-9eb3-259e372f1f66",
   "metadata": {},
   "outputs": [],
   "source": [
    "import pandas as pd\n",
    "import numpy as np\n",
    "from sklearn.metrics import accuracy_score, precision_score, recall_score, f1_score, roc_auc_score, roc_curve, confusion_matrix,  auc, precision_recall_curve, brier_score_loss"
   ]
  },
  {
   "cell_type": "code",
   "execution_count": null,
   "id": "730ce09d-2ff4-4da9-ac8f-5f4ca240741b",
   "metadata": {},
   "outputs": [],
   "source": [
    "df = pd.read_csv(\"./data/SNUH/auc_f1.csv\")"
   ]
  },
  {
   "cell_type": "code",
   "execution_count": null,
   "id": "be7c2ff4-14f9-4a1a-bcfe-e8d621012600",
   "metadata": {},
   "outputs": [
    {
     "data": {
      "text/html": [
       "<div>\n",
       "<style scoped>\n",
       "    .dataframe tbody tr th:only-of-type {\n",
       "        vertical-align: middle;\n",
       "    }\n",
       "\n",
       "    .dataframe tbody tr th {\n",
       "        vertical-align: top;\n",
       "    }\n",
       "\n",
       "    .dataframe thead th {\n",
       "        text-align: right;\n",
       "    }\n",
       "</style>\n",
       "<table border=\"1\" class=\"dataframe\">\n",
       "  <thead>\n",
       "    <tr style=\"text-align: right;\">\n",
       "      <th></th>\n",
       "      <th>new_total_aki</th>\n",
       "      <th>transformer_val</th>\n",
       "      <th>xgb_val</th>\n",
       "      <th>RF_val</th>\n",
       "      <th>LR_val</th>\n",
       "      <th>svc_val</th>\n",
       "      <th>transformer+notext_val</th>\n",
       "    </tr>\n",
       "  </thead>\n",
       "  <tbody>\n",
       "    <tr>\n",
       "      <th>0</th>\n",
       "      <td>0</td>\n",
       "      <td>0.047404</td>\n",
       "      <td>0.074181</td>\n",
       "      <td>0.084133</td>\n",
       "      <td>0.110741</td>\n",
       "      <td>0.115589</td>\n",
       "      <td>0.015922</td>\n",
       "    </tr>\n",
       "    <tr>\n",
       "      <th>1</th>\n",
       "      <td>0</td>\n",
       "      <td>0.161916</td>\n",
       "      <td>0.134149</td>\n",
       "      <td>0.152761</td>\n",
       "      <td>0.105839</td>\n",
       "      <td>0.005829</td>\n",
       "      <td>0.134435</td>\n",
       "    </tr>\n",
       "    <tr>\n",
       "      <th>2</th>\n",
       "      <td>0</td>\n",
       "      <td>0.019681</td>\n",
       "      <td>0.020899</td>\n",
       "      <td>0.004926</td>\n",
       "      <td>0.019550</td>\n",
       "      <td>0.023344</td>\n",
       "      <td>0.006488</td>\n",
       "    </tr>\n",
       "    <tr>\n",
       "      <th>3</th>\n",
       "      <td>0</td>\n",
       "      <td>0.011778</td>\n",
       "      <td>0.015613</td>\n",
       "      <td>0.004830</td>\n",
       "      <td>0.037785</td>\n",
       "      <td>0.023518</td>\n",
       "      <td>0.009038</td>\n",
       "    </tr>\n",
       "    <tr>\n",
       "      <th>4</th>\n",
       "      <td>0</td>\n",
       "      <td>0.026032</td>\n",
       "      <td>0.006413</td>\n",
       "      <td>0.058442</td>\n",
       "      <td>0.021802</td>\n",
       "      <td>0.095524</td>\n",
       "      <td>0.004110</td>\n",
       "    </tr>\n",
       "    <tr>\n",
       "      <th>...</th>\n",
       "      <td>...</td>\n",
       "      <td>...</td>\n",
       "      <td>...</td>\n",
       "      <td>...</td>\n",
       "      <td>...</td>\n",
       "      <td>...</td>\n",
       "      <td>...</td>\n",
       "    </tr>\n",
       "    <tr>\n",
       "      <th>13755</th>\n",
       "      <td>0</td>\n",
       "      <td>0.036322</td>\n",
       "      <td>0.034521</td>\n",
       "      <td>0.030859</td>\n",
       "      <td>0.052571</td>\n",
       "      <td>0.028645</td>\n",
       "      <td>0.033590</td>\n",
       "    </tr>\n",
       "    <tr>\n",
       "      <th>13756</th>\n",
       "      <td>0</td>\n",
       "      <td>0.162779</td>\n",
       "      <td>0.056739</td>\n",
       "      <td>0.100516</td>\n",
       "      <td>0.036026</td>\n",
       "      <td>0.016496</td>\n",
       "      <td>0.197097</td>\n",
       "    </tr>\n",
       "    <tr>\n",
       "      <th>13757</th>\n",
       "      <td>0</td>\n",
       "      <td>0.169887</td>\n",
       "      <td>0.080851</td>\n",
       "      <td>0.226609</td>\n",
       "      <td>0.103048</td>\n",
       "      <td>0.248647</td>\n",
       "      <td>0.088899</td>\n",
       "    </tr>\n",
       "    <tr>\n",
       "      <th>13758</th>\n",
       "      <td>0</td>\n",
       "      <td>0.414069</td>\n",
       "      <td>0.301351</td>\n",
       "      <td>0.252989</td>\n",
       "      <td>0.259893</td>\n",
       "      <td>0.032560</td>\n",
       "      <td>0.252568</td>\n",
       "    </tr>\n",
       "    <tr>\n",
       "      <th>13759</th>\n",
       "      <td>0</td>\n",
       "      <td>0.002305</td>\n",
       "      <td>0.002799</td>\n",
       "      <td>0.004102</td>\n",
       "      <td>0.003775</td>\n",
       "      <td>0.017161</td>\n",
       "      <td>0.001195</td>\n",
       "    </tr>\n",
       "  </tbody>\n",
       "</table>\n",
       "<p>13760 rows × 7 columns</p>\n",
       "</div>"
      ],
      "text/plain": [
       "       new_total_aki  transformer_val   xgb_val    RF_val    LR_val   svc_val  \\\n",
       "0                  0         0.047404  0.074181  0.084133  0.110741  0.115589   \n",
       "1                  0         0.161916  0.134149  0.152761  0.105839  0.005829   \n",
       "2                  0         0.019681  0.020899  0.004926  0.019550  0.023344   \n",
       "3                  0         0.011778  0.015613  0.004830  0.037785  0.023518   \n",
       "4                  0         0.026032  0.006413  0.058442  0.021802  0.095524   \n",
       "...              ...              ...       ...       ...       ...       ...   \n",
       "13755              0         0.036322  0.034521  0.030859  0.052571  0.028645   \n",
       "13756              0         0.162779  0.056739  0.100516  0.036026  0.016496   \n",
       "13757              0         0.169887  0.080851  0.226609  0.103048  0.248647   \n",
       "13758              0         0.414069  0.301351  0.252989  0.259893  0.032560   \n",
       "13759              0         0.002305  0.002799  0.004102  0.003775  0.017161   \n",
       "\n",
       "       transformer+notext_val  \n",
       "0                    0.015922  \n",
       "1                    0.134435  \n",
       "2                    0.006488  \n",
       "3                    0.009038  \n",
       "4                    0.004110  \n",
       "...                       ...  \n",
       "13755                0.033590  \n",
       "13756                0.197097  \n",
       "13757                0.088899  \n",
       "13758                0.252568  \n",
       "13759                0.001195  \n",
       "\n",
       "[13760 rows x 7 columns]"
      ]
     },
     "execution_count": 7,
     "metadata": {},
     "output_type": "execute_result"
    }
   ],
   "source": [
    "df"
   ]
  },
  {
   "cell_type": "code",
   "execution_count": 172,
   "id": "15fe1b2a-10ea-4d5b-b11c-bd3a2f6e75c8",
   "metadata": {},
   "outputs": [],
   "source": [
    "#f1 : 0.094 /auroc :0.039\n",
    "#transformer_val: 0.41\n",
    "#xgb_val : 0.18\n",
    "#RF_val : 0.21\n",
    "#LR_val : 0.11\n",
    "#svc_val : 0.14\n",
    "#transformer+notext_val: 0.19"
   ]
  },
  {
   "cell_type": "markdown",
   "id": "1b6fd175-26f8-40d0-b082-3cfd23da1ebe",
   "metadata": {},
   "source": [
    "### find optimal threshold"
   ]
  },
  {
   "cell_type": "code",
   "execution_count": 280,
   "id": "ce716e07-2c73-4e60-bcf3-c073cb12d5a4",
   "metadata": {},
   "outputs": [],
   "source": [
    "col = \"transformer_val\"\n",
    "y_test = df['new_total_aki']"
   ]
  },
  {
   "cell_type": "code",
   "execution_count": 281,
   "id": "2f4bd77c-f68d-4ed7-ac1e-cbd184e8af5b",
   "metadata": {},
   "outputs": [],
   "source": [
    "cutoff  = list(np.arange(0.0,1.0,0.01))"
   ]
  },
  {
   "cell_type": "code",
   "execution_count": null,
   "id": "33a59d7b-6d2f-4a78-a889-853583bd8021",
   "metadata": {},
   "outputs": [],
   "source": [
    "l = {}\n",
    "for c in cutoff :    \n",
    "    roc_predictions = [1 if i >= c else 0 for i in df[col]]\n",
    "    l.update({round(c,2): round(f1_score(y_test, roc_predictions),4)})"
   ]
  },
  {
   "cell_type": "code",
   "execution_count": 283,
   "id": "93420c56-fcdb-41e4-9f2c-d3cc447ed8da",
   "metadata": {},
   "outputs": [
    {
     "data": {
      "text/plain": [
       "0.41"
      ]
     },
     "execution_count": 283,
     "metadata": {},
     "output_type": "execute_result"
    }
   ],
   "source": [
    "optimal_threshold = max(l, key=l.get)"
   ]
  },
  {
   "cell_type": "code",
   "execution_count": 179,
   "id": "05855b70-8776-45c1-8e5e-cc8eae7168ca",
   "metadata": {},
   "outputs": [
    {
     "name": "stdout",
     "output_type": "stream",
     "text": [
      "Accuracy Score Before and After Thresholding: 0.9443, 0.9081\n",
      "Precision Score Before and After Thresholding: 0.497, 0.3031\n",
      "Recall Score Before and After Thresholding: 0.1085, 0.502\n",
      "F1 Score Before and After Thresholding: 0.1781, 0.378\n"
     ]
    }
   ],
   "source": [
    "# SNUH : check metrics\n",
    "optimal_proba_cutoff = 0.19\n",
    "roc_predictions = [1 if i >= optimal_proba_cutoff else 0 for i in df[col]]\n",
    "predictions = [1 if i >= 0.5 else 0 for i in df[col]]\n",
    "y_test = df['new_total_aki']\n",
    "\n",
    "print(\"Accuracy Score Before and After Thresholding: {}, {}\".format(round(accuracy_score(y_test, predictions),4), round(accuracy_score(y_test, roc_predictions),4)))\n",
    "print(\"Precision Score Before and After Thresholding: {}, {}\".format(round(precision_score(y_test, predictions),4), round(precision_score(y_test, roc_predictions),4)))\n",
    "print(\"Recall Score Before and After Thresholding: {}, {}\".format(round(recall_score(y_test, predictions),4), round(recall_score(y_test, roc_predictions),4)))\n",
    "print(\"F1 Score Before and After Thresholding: {}, {}\".format(round(f1_score(y_test, predictions),4), round(f1_score(y_test, roc_predictions),4)))"
   ]
  },
  {
   "cell_type": "code",
   "execution_count": 180,
   "id": "bcf9ae0b-038e-4970-b9fc-25b6195a71b8",
   "metadata": {},
   "outputs": [
    {
     "name": "stdout",
     "output_type": "stream",
     "text": [
      "Accuracy Score Before and After Thresholding: 0.9337, 0.9181\n",
      "Precision Score Before and After Thresholding: 0.4703, 0.29\n",
      "Recall Score Before and After Thresholding: 0.0424, 0.1662\n",
      "F1 Score Before and After Thresholding: 0.0778, 0.2113\n",
      "AUPRC Before and After Thresholding: 0.1825, 0.1825\n"
     ]
    }
   ],
   "source": [
    "# KMC : check metrics\n",
    "\n",
    "dk = pd.read_csv(\"./data/KMC/auc_f1.csv\")\n",
    "y_test = dk['new_total_aki']\n",
    "\n",
    "#optimal_proba_cutoff = 0.41\n",
    "roc_predictions = [1 if i >= optimal_proba_cutoff else 0 for i in dk['transformer_val']]\n",
    "predictions = [1 if i >= 0.5 else 0 for i in dk['transformer_val']]\n",
    "\n",
    "precision, recall, threshold = precision_recall_curve(y_test, dk['transformer_val'])\n",
    "\n",
    "# precision = precision_score(y_test, predictions)\n",
    "# recall = recall_score(y_test, predictions)\n",
    "\n",
    "auprc = auc(recall, precision)\n",
    "\n",
    "print(\"Accuracy Score Before and After Thresholding: {}, {}\".format(round(accuracy_score(y_test, predictions),4), round(accuracy_score(y_test, roc_predictions),4)))\n",
    "print(\"Precision Score Before and After Thresholding: {}, {}\".format(round(precision_score(y_test, predictions),4), round(precision_score(y_test, roc_predictions),4)))\n",
    "print(\"Recall Score Before and After Thresholding: {}, {}\".format(round(recall_score(y_test, predictions),4), round(recall_score(y_test, roc_predictions),4)))\n",
    "print(\"F1 Score Before and After Thresholding: {}, {}\".format(round(f1_score(y_test, predictions),4), round(f1_score(y_test, roc_predictions),4)))\n",
    "print(\"AUPRC Before and After Thresholding: {}, {}\".format(round(auc(recall, precision),4), round(auc(recall, precision),4)))"
   ]
  },
  {
   "cell_type": "markdown",
   "id": "1582b127-ddd0-44b3-b49c-a9f8845af3d9",
   "metadata": {},
   "source": [
    "### Metrics with new threshold"
   ]
  },
  {
   "cell_type": "code",
   "execution_count": 434,
   "id": "0bb9bc37-877e-43db-947c-cf7e68e90f28",
   "metadata": {},
   "outputs": [],
   "source": [
    "metrics = [\"auroc\", \"f1\", \"specificity\", \"sensitivity\"]\n",
    "\n",
    "\n",
    "round_digits  = 3\n",
    "import stat_util\n",
    "\n",
    "def new_metric(task):\n",
    "    \n",
    "    for m in range(len(metrics)) :\n",
    "        print(metrics[m])\n",
    "        #import data & threshold\n",
    "        \n",
    "        if task == \"SNUH\" :\n",
    "            df = pd.read_csv(\"./data/SNUH/\"+metrics[m]+\"/auc.csv\") #SNUH -> calculate optimal threshold \n",
    "            res = {'transformer_val': 0.41,\n",
    "                     'xgb_val': 0.18,\n",
    "                     'RF_val': 0.21,\n",
    "                     'LR_val': 0.11,\n",
    "                     'svc_val': 0.14,\n",
    "                     'transformer+notext_val': 0.19}\n",
    "        elif task == \"SNUH_test\" :\n",
    "            df = pd.read_csv(\"./data/SNUH_test/\"+metrics[m]+\"/auc.csv\")  #SNUH_test\n",
    "            res = {'transformer_test': 0.41,\n",
    "                    'xgb_test': 0.18,\n",
    "                    'RF_test': 0.21,\n",
    "                    'LR_test': 0.11,\n",
    "                    'svc_test': 0.14,\n",
    "                     'transformer+notext_test': 0.19}\n",
    "        elif task == \"KMC\" :\n",
    "            df = pd.read_csv(\"./data/KMC/\"+metrics[m]+\"/auc.csv\")  #KMC\n",
    "            col_list = df.columns[1:]\n",
    "            res = {}\n",
    "            res = {'transformer_val': 0.41,\n",
    "                     'xgb_val': 0.18,\n",
    "                     'RF_val': 0.21,\n",
    "                     'LR_val': 0.11,\n",
    "                     'svc_val': 0.14,\n",
    "                     'transformer+notext_val': 0.19}\n",
    "\n",
    "        new_metrics = []\n",
    "\n",
    "\n",
    "\n",
    "        for col, cutoff in res.items():\n",
    "\n",
    "            y_true = df['new_total_aki']\n",
    "            y_pred =  [1 if i >= cutoff else 0 for i in df[col]]\n",
    "            y_prob = df[col]\n",
    "\n",
    "            auroc = round(roc_auc_score(y_true, y_prob), round_digits)\n",
    "            brier_score = round(brier_score_loss(y_true, y_prob), round_digits)\n",
    "\n",
    "\n",
    "            precisions, recalls, threshold = precision_recall_curve(y_true, y_prob)\n",
    "\n",
    "\n",
    "            score_auroc, ci_lower_auroc, ci_upper_auroc, scores_auroc = stat_util.score_ci(y_true, y_prob,\n",
    "                                                                           score_fun=roc_auc_score,\n",
    "                                                                           n_bootstraps=1000,\n",
    "                                                                           seed=42)\n",
    "            score_prauc, ci_lower_prauc, ci_upper_prauc, scores_prauc = stat_util.score_ci(recalls, precisions, score_fun=auc)\n",
    "\n",
    "            auc_ci = str(round(score_auroc,3))+ \" (\" + str(round(ci_lower_auroc,3)) + \"-\" + str(round(ci_upper_auroc,3)) + \")\"\n",
    "            auprc_ci = str(round(score_prauc, 3)) + \" (\" + str(round(ci_lower_prauc, 3)) + \"-\" + str(round(ci_upper_prauc, 3)) + \")\"\n",
    "\n",
    "\n",
    "            tn, fp, fn, tp = confusion_matrix(y_true, y_pred).ravel()\n",
    "            precision = precision_score(y_true, y_pred)\n",
    "            f1 = f1_score(y_true, y_pred)\n",
    "            recall = recall_score(y_true, y_pred)\n",
    "            sensitivity =  recall\n",
    "            specificity = tn / (tn+fp)\n",
    "            #auprc = auc(recall, precision)\n",
    "\n",
    "            \n",
    "            if  col.split('_')[0] == 'RF' :\n",
    "                new_name = 'Random Forest'\n",
    "            elif col.split('_')[0] == 'LR' :\n",
    "                new_name = 'Logistic Regression'\n",
    "            elif col.split('_')[0] == 'xgb':\n",
    "                new_name = 'XGBoost'\n",
    "            elif col.split('_')[0] == 'svc':\n",
    "                new_name = 'SVM'\n",
    "            elif col.split('_')[0] == 'transformer'  :\n",
    "                new_name = 'Transformer'\n",
    "            elif col.split('_')[0] == 'transformer+notext' :\n",
    "                new_name = 'Transformer+notext'\n",
    "\n",
    "            if col.split('_')[-1] in ( 'train','test') :\n",
    "                new_name= new_name+\" \"+ col.split('_')[1]\n",
    "            \n",
    "            \n",
    "            new_metrics.append({ 'name' : new_name,\n",
    "                 'thresholds' : cutoff,               \n",
    "                'auroc': round(auroc,3),\n",
    "                'auroc+ci' : auc_ci,\n",
    "                'auprc+ci' : auprc_ci,\n",
    "                'precision': round(precision,3),\n",
    "                'sensitivity': round(sensitivity,3),\n",
    "                'specificity' : round(specificity,3),\n",
    "                'f1': round(f1,3),\n",
    "                'brier': round(brier_score,3)\n",
    "            })\n",
    "        final_metrics =  pd.DataFrame.from_dict(new_metrics)\n",
    "        final_metrics.to_csv(\"./output/\"+task+\"/\"+metrics[m]+\"/result.csv\")\n",
    "        "
   ]
  },
  {
   "cell_type": "markdown",
   "id": "d9dde02c-17b4-49f8-aa0d-ac1a51789f00",
   "metadata": {},
   "source": [
    "### print result to csv"
   ]
  },
  {
   "cell_type": "code",
   "execution_count": 418,
   "id": "9e695435-a358-4366-95a7-ab5a154d1e37",
   "metadata": {},
   "outputs": [
    {
     "name": "stdout",
     "output_type": "stream",
     "text": [
      "auroc\n",
      "f1\n",
      "specificity\n"
     ]
    },
    {
     "name": "stderr",
     "output_type": "stream",
     "text": [
      "/Users/jeanchoi/opt/anaconda3/lib/python3.9/site-packages/sklearn/metrics/_classification.py:1318: UndefinedMetricWarning: Precision is ill-defined and being set to 0.0 due to no predicted samples. Use `zero_division` parameter to control this behavior.\n",
      "  _warn_prf(average, modifier, msg_start, len(result))\n"
     ]
    },
    {
     "name": "stdout",
     "output_type": "stream",
     "text": [
      "sensitivity\n"
     ]
    }
   ],
   "source": [
    "# SNUH\n",
    "new_metric(\"SNUH\")"
   ]
  },
  {
   "cell_type": "code",
   "execution_count": 435,
   "id": "86e8d6fb-7c0c-4a18-82e7-3bf84bbb533f",
   "metadata": {},
   "outputs": [
    {
     "name": "stdout",
     "output_type": "stream",
     "text": [
      "auroc\n",
      "f1\n",
      "specificity\n"
     ]
    },
    {
     "name": "stderr",
     "output_type": "stream",
     "text": [
      "/Users/jeanchoi/opt/anaconda3/lib/python3.9/site-packages/sklearn/metrics/_classification.py:1318: UndefinedMetricWarning: Precision is ill-defined and being set to 0.0 due to no predicted samples. Use `zero_division` parameter to control this behavior.\n",
      "  _warn_prf(average, modifier, msg_start, len(result))\n"
     ]
    },
    {
     "name": "stdout",
     "output_type": "stream",
     "text": [
      "sensitivity\n"
     ]
    }
   ],
   "source": [
    "# SNUH test\n",
    "new_metric(\"SNUH_test\")"
   ]
  },
  {
   "cell_type": "code",
   "execution_count": 420,
   "id": "491c9816-34d5-4f48-8707-5718ca6663d2",
   "metadata": {},
   "outputs": [
    {
     "name": "stdout",
     "output_type": "stream",
     "text": [
      "auroc\n",
      "f1\n",
      "specificity\n"
     ]
    },
    {
     "name": "stderr",
     "output_type": "stream",
     "text": [
      "/Users/jeanchoi/opt/anaconda3/lib/python3.9/site-packages/sklearn/metrics/_classification.py:1318: UndefinedMetricWarning: Precision is ill-defined and being set to 0.0 due to no predicted samples. Use `zero_division` parameter to control this behavior.\n",
      "  _warn_prf(average, modifier, msg_start, len(result))\n"
     ]
    },
    {
     "name": "stdout",
     "output_type": "stream",
     "text": [
      "sensitivity\n"
     ]
    }
   ],
   "source": [
    "#KMC\n",
    "new_metric(\"KMC\")"
   ]
  }
 ],
 "metadata": {
  "kernelspec": {
   "display_name": "Python 3 (ipykernel)",
   "language": "python",
   "name": "python3"
  },
  "language_info": {
   "codemirror_mode": {
    "name": "ipython",
    "version": 3
   },
   "file_extension": ".py",
   "mimetype": "text/x-python",
   "name": "python",
   "nbconvert_exporter": "python",
   "pygments_lexer": "ipython3",
   "version": "3.9.12"
  }
 },
 "nbformat": 4,
 "nbformat_minor": 5
}
